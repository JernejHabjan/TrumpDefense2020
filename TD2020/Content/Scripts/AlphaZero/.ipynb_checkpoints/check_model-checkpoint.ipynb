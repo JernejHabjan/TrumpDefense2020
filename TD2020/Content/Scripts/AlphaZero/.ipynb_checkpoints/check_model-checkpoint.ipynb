{
 "cells": [
  {
   "cell_type": "code",
   "execution_count": 1,
   "metadata": {},
   "outputs": [
    {
     "name": "stderr",
     "output_type": "stream",
     "text": [
      "Using TensorFlow backend.\n"
     ]
    }
   ],
   "source": [
    "from keras.models import Sequential\n",
    "from keras.layers import Dense\n",
    "from keras import regularizers\n",
    "from keras.optimizers import Adam, RMSprop\n",
    "from loss import cemse_loss\n",
    "from keras import losses\n",
    "import numpy as np\n",
    "import tensorflow as tf\n",
    "import matplotlib.pyplot as plt\n",
    "\n",
    "custom_loss = cemse_loss()\n",
    "\n",
    "model = Sequential()\n",
    "model.add(Dense(10, use_bias=True, bias_initializer='random_uniform', activation='relu', kernel_regularizer=regularizers.l2(0.01), input_dim=18))\n",
    "model.add(Dense(10, use_bias=True, bias_initializer='random_uniform', activation='relu', kernel_regularizer=regularizers.l2(0.01)))\n",
    "model.add(Dense(9 + 1, use_bias=True, bias_initializer='random_uniform', activation='linear', kernel_regularizer=regularizers.l2(0.01)))\n",
    "model.compile(loss=custom_loss,\n",
    "    optimizer=Adam(lr=0.01))"
   ]
  },
  {
   "cell_type": "code",
   "execution_count": 2,
   "metadata": {},
   "outputs": [],
   "source": [
    "state = [1,1,0,0,0,0,0,0,0,0,0,0,-1,-1,0,0,0,0]\n",
    "target = 1\n",
    "next_move = [0,0,0.5,0,0,0.2,0.3,0,0]\n",
    "\n",
    "y_true = np.array([[target] + next_move])\n",
    "\n",
    "training_states = np.array([state])\n",
    "training_targets = y_true"
   ]
  },
  {
   "cell_type": "code",
   "execution_count": 3,
   "metadata": {},
   "outputs": [],
   "source": [
    "fit = model.fit(training_states, training_targets, epochs=1, verbose=0)\n"
   ]
  },
  {
   "cell_type": "code",
   "execution_count": 4,
   "metadata": {},
   "outputs": [
    {
     "data": {
      "text/plain": [
       "{'loss': [3.0224502086639404]}"
      ]
     },
     "execution_count": 4,
     "metadata": {},
     "output_type": "execute_result"
    }
   ],
   "source": [
    "fit.history"
   ]
  },
  {
   "cell_type": "code",
   "execution_count": 200,
   "metadata": {},
   "outputs": [],
   "source": [
    "for i in xrange(100):\n",
    "    fit = model.fit(training_states, training_targets, epochs=1, verbose=0)"
   ]
  },
  {
   "cell_type": "code",
   "execution_count": 5,
   "metadata": {},
   "outputs": [],
   "source": [
    "y_pred = model.predict(np.array([state]))"
   ]
  },
  {
   "cell_type": "code",
   "execution_count": 11,
   "metadata": {},
   "outputs": [],
   "source": [
    "v = tf.slice(tf.constant(y_pred, dtype='float64'), [0,0], [-1,1])\n",
    "z = tf.slice(tf.constant(y_true, dtype='float64'), [0,0], [-1,1])\n",
    "\n",
    "p = tf.slice(tf.constant(y_pred, dtype='float64'), [0,1], [-1,-1])\n",
    "pi = tf.slice(tf.constant(y_true, dtype='float64'), [0,1], [-1,-1])"
   ]
  },
  {
   "cell_type": "code",
   "execution_count": 20,
   "metadata": {},
   "outputs": [
    {
     "ename": "TypeError",
     "evalue": "Input 'y' of 'NotEqual' Op has type int32 that does not match type float64 of argument 'x'.",
     "traceback": [
      "\u001b[0;31m---------------------------------------------------------------------------\u001b[0m",
      "\u001b[0;31mTypeError\u001b[0m                                 Traceback (most recent call last)",
      "\u001b[0;32m<ipython-input-20-821feb4fb351>\u001b[0m in \u001b[0;36m<module>\u001b[0;34m()\u001b[0m\n\u001b[1;32m      1\u001b[0m \u001b[0mzero\u001b[0m \u001b[0;34m=\u001b[0m \u001b[0mtf\u001b[0m\u001b[0;34m.\u001b[0m\u001b[0mconstant\u001b[0m\u001b[0;34m(\u001b[0m\u001b[0;36m0\u001b[0m\u001b[0;34m)\u001b[0m\u001b[0;34m\u001b[0m\u001b[0m\n\u001b[0;32m----> 2\u001b[0;31m \u001b[0mloc\u001b[0m \u001b[0;34m=\u001b[0m \u001b[0mtf\u001b[0m\u001b[0;34m.\u001b[0m\u001b[0mnot_equal\u001b[0m\u001b[0;34m(\u001b[0m\u001b[0mpi\u001b[0m\u001b[0;34m,\u001b[0m \u001b[0mzero\u001b[0m\u001b[0;34m)\u001b[0m\u001b[0;34m\u001b[0m\u001b[0m\n\u001b[0m\u001b[1;32m      3\u001b[0m \u001b[0msess\u001b[0m\u001b[0;34m.\u001b[0m\u001b[0mrun\u001b[0m\u001b[0;34m(\u001b[0m\u001b[0mloc\u001b[0m\u001b[0;34m)\u001b[0m\u001b[0;34m\u001b[0m\u001b[0m\n",
      "\u001b[0;32m/Users/davidfoster/.virtualenvs/deepreinforcement/lib/python2.7/site-packages/tensorflow/python/ops/gen_math_ops.pyc\u001b[0m in \u001b[0;36mnot_equal\u001b[0;34m(x, y, name)\u001b[0m\n\u001b[1;32m   2851\u001b[0m   \u001b[0;32mif\u001b[0m \u001b[0m_ctx\u001b[0m\u001b[0;34m.\u001b[0m\u001b[0min_graph_mode\u001b[0m\u001b[0;34m(\u001b[0m\u001b[0;34m)\u001b[0m\u001b[0;34m:\u001b[0m\u001b[0;34m\u001b[0m\u001b[0m\n\u001b[1;32m   2852\u001b[0m     _, _, _op = _op_def_lib._apply_op_helper(\n\u001b[0;32m-> 2853\u001b[0;31m         \"NotEqual\", x=x, y=y, name=name)\n\u001b[0m\u001b[1;32m   2854\u001b[0m     \u001b[0m_result\u001b[0m \u001b[0;34m=\u001b[0m \u001b[0m_op\u001b[0m\u001b[0;34m.\u001b[0m\u001b[0moutputs\u001b[0m\u001b[0;34m[\u001b[0m\u001b[0;34m:\u001b[0m\u001b[0;34m]\u001b[0m\u001b[0;34m\u001b[0m\u001b[0m\n\u001b[1;32m   2855\u001b[0m     \u001b[0m_inputs_flat\u001b[0m \u001b[0;34m=\u001b[0m \u001b[0m_op\u001b[0m\u001b[0;34m.\u001b[0m\u001b[0minputs\u001b[0m\u001b[0;34m\u001b[0m\u001b[0m\n",
      "\u001b[0;32m/Users/davidfoster/.virtualenvs/deepreinforcement/lib/python2.7/site-packages/tensorflow/python/framework/op_def_library.pyc\u001b[0m in \u001b[0;36m_apply_op_helper\u001b[0;34m(self, op_type_name, name, **keywords)\u001b[0m\n\u001b[1;32m    544\u001b[0m                   \u001b[0;34m\"%s type %s of argument '%s'.\"\u001b[0m \u001b[0;34m%\u001b[0m\u001b[0;34m\u001b[0m\u001b[0m\n\u001b[1;32m    545\u001b[0m                   (prefix, dtypes.as_dtype(attrs[input_arg.type_attr]).name,\n\u001b[0;32m--> 546\u001b[0;31m                    inferred_from[input_arg.type_attr]))\n\u001b[0m\u001b[1;32m    547\u001b[0m \u001b[0;34m\u001b[0m\u001b[0m\n\u001b[1;32m    548\u001b[0m           \u001b[0mtypes\u001b[0m \u001b[0;34m=\u001b[0m \u001b[0;34m[\u001b[0m\u001b[0mvalues\u001b[0m\u001b[0;34m.\u001b[0m\u001b[0mdtype\u001b[0m\u001b[0;34m]\u001b[0m\u001b[0;34m\u001b[0m\u001b[0m\n",
      "\u001b[0;31mTypeError\u001b[0m: Input 'y' of 'NotEqual' Op has type int32 that does not match type float64 of argument 'x'."
     ],
     "output_type": "error"
    }
   ],
   "source": [
    "zero = tf.constant(0, dtype=tf.float64)\n",
    "loc = tf.not_equal(pi, zero)\n",
    "sess.run(loc)"
   ]
  },
  {
   "cell_type": "code",
   "execution_count": 16,
   "metadata": {},
   "outputs": [],
   "source": [
    "loss = losses.mean_squared_error(z, tf.tanh(v)) + tf.nn.softmax_cross_entropy_with_logits(labels = tf.boolean_mask(pi,loc), logits = tf.boolean_mask(p,loc))\n"
   ]
  },
  {
   "cell_type": "code",
   "execution_count": 19,
   "metadata": {},
   "outputs": [
    {
     "name": "stdout",
     "output_type": "stream",
     "text": [
      "[ 1.42451725]\n",
      "[ 0.5  0.2  0.3]\n",
      "[ 0.09151755 -0.57005888  0.28418985]\n"
     ]
    }
   ],
   "source": [
    "sess = tf.Session()\n",
    "print(sess.run(loss))\n",
    "print(sess.run(tf.boolean_mask(pi,loc)))\n",
    "print(sess.run(tf.boolean_mask(p,loc)))"
   ]
  },
  {
   "cell_type": "code",
   "execution_count": 10,
   "metadata": {},
   "outputs": [
    {
     "name": "stdout",
     "output_type": "stream",
     "text": [
      "[[ 0.   0.   0.5  0.   0.   0.2  0.3  0.   0. ]]\n",
      "[[ 0.01390975  0.02305907  0.09151755  0.01204331  0.34318545 -0.57005888\n",
      "   0.28418985  0.05954683  0.06024369]]\n",
      "[[ 0.10593089  0.10690453  0.11447938  0.10573336  0.14723981  0.05907562\n",
      "   0.13880457  0.11087728  0.11095457]]\n",
      "2.24187418139\n",
      "[ 2.24187418]\n"
     ]
    }
   ],
   "source": [
    "print(sess.run(pi))\n",
    "print(sess.run(p))\n",
    "softmax = tf.nn.softmax(p)\n",
    "\n",
    "print(sess.run(softmax))\n",
    "total_loss = tf.reduce_mean(-tf.reduce_sum(pi * tf.log(softmax), [1]))\n",
    "\n",
    "print(sess.run(total_loss))\n",
    "print(sess.run(tf.nn.softmax_cross_entropy_with_logits(labels = pi, logits = p)))"
   ]
  },
  {
   "cell_type": "code",
   "execution_count": 210,
   "metadata": {},
   "outputs": [
    {
     "data": {
      "text/plain": [
       "array([[ 3.01843262, -3.35358572, -2.37631893,  3.34004378, -2.99087596,\n",
       "        -2.9094696 ,  2.45611715,  2.80245829, -2.63021517, -2.40210104]], dtype=float32)"
      ]
     },
     "execution_count": 210,
     "metadata": {},
     "output_type": "execute_result"
    }
   ],
   "source": [
    "y_pred"
   ]
  },
  {
   "cell_type": "code",
   "execution_count": 208,
   "metadata": {},
   "outputs": [
    {
     "data": {
      "image/png": "[encoded data removed]",
      "text/plain": [
       "<matplotlib.figure.Figure at 0x11d687190>"
      ]
     },
     "metadata": {},
     "output_type": "display_data"
    },
    {
     "data": {
      "image/png": "[encoded data removed]",
      "text/plain": [
       "<matplotlib.figure.Figure at 0x11de63710>"
      ]
     },
     "metadata": {},
     "output_type": "display_data"
    },
    {
     "data": {
      "image/png": "[encoded data removed]",
      "text/plain": [
       "<matplotlib.figure.Figure at 0x11e75ca90>"
      ]
     },
     "metadata": {},
     "output_type": "display_data"
    },
    {
     "data": {
      "image/png": "[encoded data removed]",
      "text/plain": [
       "<matplotlib.figure.Figure at 0x11d26b350>"
      ]
     },
     "metadata": {},
     "output_type": "display_data"
    },
    {
     "data": {
      "image/png": "[encoded data removed]",
      "text/plain": [
       "<matplotlib.figure.Figure at 0x11d5d7590>"
      ]
     },
     "metadata": {},
     "output_type": "display_data"
    },
    {
     "data": {
      "image/png": "[encoded data removed]",
      "text/plain": [
       "<matplotlib.figure.Figure at 0x11de21e50>"
      ]
     },
     "metadata": {},
     "output_type": "display_data"
    }
   ],
   "source": [
    "l1 = model.layers[0].get_weights()[0]\n",
    "l1_bias = [model.layers[0].get_weights()[1]]\n",
    "l2 = model.layers[1].get_weights()[0]\n",
    "l2_bias = [model.layers[1].get_weights()[1]]\n",
    "l3 = model.layers[2].get_weights()[0]\n",
    "l3_bias = [model.layers[2].get_weights()[1]]\n",
    "plt.imshow(l1, cmap='coolwarm')\n",
    "plt.show()\n",
    "plt.imshow(l1_bias, cmap='coolwarm')\n",
    "plt.show()\n",
    "plt.imshow(l2, cmap='coolwarm')\n",
    "plt.show()\n",
    "plt.imshow(l2_bias, cmap='coolwarm')\n",
    "plt.show()\n",
    "plt.imshow(l3, cmap='coolwarm')\n",
    "plt.show()\n",
    "plt.imshow(l3_bias, cmap='coolwarm')\n",
    "plt.show()\n"
   ]
  },
  {
   "cell_type": "code",
   "execution_count": 209,
   "metadata": {},
   "outputs": [
    {
     "data": {
      "text/plain": [
       "array([[  1.63326238e-03,   3.16449344e-01,   5.86463630e-01,\n",
       "         -2.01987638e-03,  -8.03918540e-02,   3.22499429e-03,\n",
       "         -6.76295953e-04,   2.31270387e-04,  -3.93889584e-02,\n",
       "          2.98810769e-02],\n",
       "       [  3.74790933e-03,   3.19886327e-01,   4.97435331e-01,\n",
       "          3.93377207e-02,   2.33290941e-01,   1.85876188e-03,\n",
       "          1.30566055e-04,  -1.97542031e-05,   4.09340054e-01,\n",
       "          2.29218248e-02],\n",
       "       [ -1.79458119e-03,  -7.36567250e-04,  -1.68336974e-03,\n",
       "          7.71252380e-05,  -7.27214792e-04,  -1.60337469e-04,\n",
       "          1.77326205e-03,  -5.33297658e-04,  -4.45837097e-04,\n",
       "          6.06847927e-04],\n",
       "       [  4.75142151e-04,   1.94792147e-03,  -7.74591172e-07,\n",
       "          1.94060453e-03,   2.14025122e-03,   6.62030216e-05,\n",
       "          1.41475582e-04,  -5.88265713e-04,  -1.95807265e-03,\n",
       "         -9.69951361e-05],\n",
       "       [  2.84593494e-04,  -7.40125368e-04,   7.38236587e-04,\n",
       "         -1.95917371e-03,   1.32156827e-04,  -1.22703519e-03,\n",
       "         -4.18331986e-03,   2.72949343e-04,  -1.80080751e-04,\n",
       "          6.15868601e-04],\n",
       "       [ -1.69476116e-05,  -9.67179483e-04,   1.40215707e-06,\n",
       "          2.37035274e-04,   1.08089461e-03,   6.38876925e-04,\n",
       "         -3.07213422e-03,   1.75490987e-03,   1.50778258e-04,\n",
       "         -1.87554397e-03],\n",
       "       [ -7.81350536e-04,   7.89463229e-07,   1.02843063e-04,\n",
       "         -3.00052529e-03,   3.01247201e-04,  -1.14033069e-03,\n",
       "          3.54149306e-05,  -1.68544566e-03,  -2.89741135e-03,\n",
       "         -4.90532373e-04],\n",
       "       [  4.61248169e-03,   5.95118268e-04,  -4.35080286e-03,\n",
       "          4.57971240e-04,   2.50914192e-04,   9.95574752e-04,\n",
       "         -1.81498544e-04,   3.75931663e-03,  -8.47270639e-05,\n",
       "          9.55671072e-04],\n",
       "       [  4.09419695e-03,  -6.91802008e-04,   3.37542850e-04,\n",
       "          2.89478805e-04,  -7.90580816e-04,   1.16744905e-03,\n",
       "          1.89099199e-04,   7.25450300e-05,   5.39307366e-04,\n",
       "         -6.75208285e-04],\n",
       "       [ -7.41342519e-05,   1.89158600e-03,  -1.59170682e-04,\n",
       "         -1.13746384e-03,   1.88069663e-03,   3.51590024e-05,\n",
       "         -1.20351347e-03,   1.02841621e-03,  -2.52223050e-04,\n",
       "         -5.71289391e-04],\n",
       "       [ -3.75415402e-05,  -1.55794260e-06,  -4.55596577e-03,\n",
       "          4.38807532e-03,   7.76244910e-04,   5.12352388e-04,\n",
       "          3.08484916e-04,   4.21317643e-04,   4.49988898e-03,\n",
       "         -1.38257499e-04],\n",
       "       [ -3.62292049e-05,  -8.12688522e-05,   3.45208042e-04,\n",
       "         -1.95627520e-03,  -9.88077256e-04,   1.78457424e-03,\n",
       "         -1.65861542e-03,   3.94518982e-04,   7.82087562e-04,\n",
       "          8.21604772e-06],\n",
       "       [ -3.63035873e-03,  -2.94502497e-01,  -3.34966332e-01,\n",
       "          3.71005340e-03,   4.57581818e-01,  -1.37329195e-03,\n",
       "          1.70347223e-04,  -1.86926778e-03,  -7.26208016e-02,\n",
       "         -2.85171028e-02],\n",
       "       [ -1.72299042e-03,  -3.17751557e-01,  -4.82379079e-01,\n",
       "          6.70907944e-02,  -8.06102678e-02,   2.82194203e-04,\n",
       "         -1.10312772e-04,   5.95521415e-05,  -4.93049175e-01,\n",
       "         -1.72092691e-02],\n",
       "       [  1.96311681e-04,   1.97618129e-03,   1.12727087e-03,\n",
       "         -1.62933444e-04,  -7.34310132e-04,  -3.87770357e-04,\n",
       "         -2.34144216e-04,  -2.02960437e-05,  -1.01767248e-03,\n",
       "         -3.51970448e-05],\n",
       "       [ -1.83264507e-04,  -5.12971485e-04,  -1.33233465e-04,\n",
       "          1.89479289e-03,  -9.85731254e-04,   5.49553020e-04,\n",
       "         -4.88846053e-05,   5.93018951e-04,  -1.70807238e-04,\n",
       "         -4.25323175e-04],\n",
       "       [ -1.05608627e-03,  -1.45533343e-03,  -3.77990725e-03,\n",
       "          4.42105997e-03,   5.00839844e-04,  -1.96086336e-03,\n",
       "          9.53009934e-04,   1.91947818e-03,   5.23374649e-04,\n",
       "          2.58291839e-05],\n",
       "       [ -1.82355300e-03,  -3.29327933e-03,   9.11658135e-05,\n",
       "          1.93507108e-03,  -1.61876704e-03,  -2.67736427e-03,\n",
       "         -4.41248249e-03,  -8.72806646e-04,   3.77288810e-03,\n",
       "         -8.40242938e-05]], dtype=float32)"
      ]
     },
     "execution_count": 209,
     "metadata": {},
     "output_type": "execute_result"
    }
   ],
   "source": [
    "model.layers[0].get_weights()[0]"
   ]
  },
  {
   "cell_type": "code",
   "execution_count": null,
   "metadata": {},
   "outputs": [],
   "source": []
  },
  {
   "cell_type": "code",
   "execution_count": null,
   "metadata": {},
   "outputs": [],
   "source": []
  }
 ],
 "metadata": {
  "kernelspec": {
   "display_name": "deepreinforcement",
   "language": "python",
   "name": "deepreinforcement"
  },
  "language_info": {
   "codemirror_mode": {
    "name": "ipython",
    "version": 2
   },
   "file_extension": ".py",
   "mimetype": "text/x-python",
   "name": "python",
   "nbconvert_exporter": "python",
   "pygments_lexer": "ipython2",
   "version": "2.7.13"
  }
 },
 "nbformat": 4,
 "nbformat_minor": 2
}
